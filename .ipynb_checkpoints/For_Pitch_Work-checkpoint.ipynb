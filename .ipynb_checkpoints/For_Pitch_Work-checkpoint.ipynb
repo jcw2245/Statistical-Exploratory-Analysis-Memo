{
 "cells": [
  {
   "cell_type": "code",
   "execution_count": 2,
   "id": "6562c439-b4b1-4a45-92d2-af8a33df611c",
   "metadata": {},
   "outputs": [],
   "source": [
    "%load_ext rpy2.ipython\n",
    "%load_ext autoreload\n",
    "%autoreload 2\n",
    "\n",
    "%matplotlib inline  \n",
    "from matplotlib import rcParams\n",
    "rcParams['figure.figsize'] = (16, 100)\n",
    "\n",
    "import warnings\n",
    "from rpy2.rinterface import RRuntimeWarning\n",
    "warnings.filterwarnings(\"ignore\") # Ignore all warnings\n",
    "# warnings.filterwarnings(\"ignore\", category=RRuntimeWarning) # Show some warnings\n",
    "\n",
    "import pandas as pd\n",
    "import numpy as np\n",
    "import matplotlib.pyplot as plt\n",
    "from IPython.display import display, HTML"
   ]
  },
  {
   "cell_type": "code",
   "execution_count": 3,
   "id": "d89b4b9b-307d-4446-8880-367253e49e7c",
   "metadata": {},
   "outputs": [
    {
     "data": {
      "application/javascript": [
       "// Disable auto-scrolling\n",
       "IPython.OutputArea.prototype._should_scroll = function(lines) {\n",
       "    return false;\n",
       "}\n"
      ],
      "text/plain": [
       "<IPython.core.display.Javascript object>"
      ]
     },
     "metadata": {},
     "output_type": "display_data"
    }
   ],
   "source": [
    "%%javascript\n",
    "// Disable auto-scrolling\n",
    "IPython.OutputArea.prototype._should_scroll = function(lines) {\n",
    "    return false;\n",
    "}"
   ]
  },
  {
   "cell_type": "code",
   "execution_count": 4,
   "id": "ad022724-b2c9-4e19-afa0-a3153344096a",
   "metadata": {},
   "outputs": [
    {
     "name": "stdout",
     "output_type": "stream",
     "text": [
      "── Attaching core tidyverse packages ──────────────────────── tidyverse 2.0.0 ──\n",
      "✔ dplyr     1.1.4     ✔ readr     2.1.5\n",
      "✔ forcats   1.0.0     ✔ stringr   1.5.1\n",
      "✔ ggplot2   3.5.1     ✔ tibble    3.2.1\n",
      "✔ lubridate 1.9.4     ✔ tidyr     1.3.1\n",
      "✔ purrr     1.0.2     \n",
      "── Conflicts ────────────────────────────────────────── tidyverse_conflicts() ──\n",
      "✖ dplyr::filter() masks stats::filter()\n",
      "✖ dplyr::lag()    masks stats::lag()\n",
      "ℹ Use the conflicted package (<http://conflicted.r-lib.org/>) to force all conflicts to become errors\n"
     ]
    },
    {
     "data": {
      "text/plain": [
       "Loading required package: tidyverse\n"
      ]
     },
     "metadata": {},
     "output_type": "display_data"
    }
   ],
   "source": [
    "%%R\n",
    "require('tidyverse')"
   ]
  },
  {
   "cell_type": "code",
   "execution_count": 5,
   "id": "aef17dd9-630d-4526-8a76-1fbb89906af0",
   "metadata": {},
   "outputs": [
    {
     "data": {
      "text/html": [
       "<div>\n",
       "<style scoped>\n",
       "    .dataframe tbody tr th:only-of-type {\n",
       "        vertical-align: middle;\n",
       "    }\n",
       "\n",
       "    .dataframe tbody tr th {\n",
       "        vertical-align: top;\n",
       "    }\n",
       "\n",
       "    .dataframe thead th {\n",
       "        text-align: right;\n",
       "    }\n",
       "</style>\n",
       "<table border=\"1\" class=\"dataframe\">\n",
       "  <thead>\n",
       "    <tr style=\"text-align: right;\">\n",
       "      <th></th>\n",
       "      <th>CensusTract</th>\n",
       "      <th>State</th>\n",
       "      <th>County</th>\n",
       "      <th>Urban</th>\n",
       "      <th>Pop2010</th>\n",
       "      <th>OHU2010</th>\n",
       "      <th>GroupQuartersFlag</th>\n",
       "      <th>NUMGQTRS</th>\n",
       "      <th>PCTGQTRS</th>\n",
       "      <th>LILATracts_1And10</th>\n",
       "      <th>...</th>\n",
       "      <th>TractSeniors</th>\n",
       "      <th>TractWhite</th>\n",
       "      <th>TractBlack</th>\n",
       "      <th>TractAsian</th>\n",
       "      <th>TractNHOPI</th>\n",
       "      <th>TractAIAN</th>\n",
       "      <th>TractOMultir</th>\n",
       "      <th>TractHispanic</th>\n",
       "      <th>TractHUNV</th>\n",
       "      <th>TractSNAP</th>\n",
       "    </tr>\n",
       "  </thead>\n",
       "  <tbody>\n",
       "    <tr>\n",
       "      <th>0</th>\n",
       "      <td>48001950100</td>\n",
       "      <td>Texas</td>\n",
       "      <td>Anderson County</td>\n",
       "      <td>0</td>\n",
       "      <td>4685</td>\n",
       "      <td>1874</td>\n",
       "      <td>0</td>\n",
       "      <td>49</td>\n",
       "      <td>1.05</td>\n",
       "      <td>0</td>\n",
       "      <td>...</td>\n",
       "      <td>912</td>\n",
       "      <td>4012</td>\n",
       "      <td>452</td>\n",
       "      <td>22</td>\n",
       "      <td>0</td>\n",
       "      <td>13</td>\n",
       "      <td>186</td>\n",
       "      <td>236</td>\n",
       "      <td>46</td>\n",
       "      <td>165</td>\n",
       "    </tr>\n",
       "    <tr>\n",
       "      <th>1</th>\n",
       "      <td>48001950401</td>\n",
       "      <td>Texas</td>\n",
       "      <td>Anderson County</td>\n",
       "      <td>0</td>\n",
       "      <td>5422</td>\n",
       "      <td>77</td>\n",
       "      <td>1</td>\n",
       "      <td>5219</td>\n",
       "      <td>96.26</td>\n",
       "      <td>0</td>\n",
       "      <td>...</td>\n",
       "      <td>24</td>\n",
       "      <td>1825</td>\n",
       "      <td>2266</td>\n",
       "      <td>21</td>\n",
       "      <td>0</td>\n",
       "      <td>5</td>\n",
       "      <td>1305</td>\n",
       "      <td>1324</td>\n",
       "      <td>0</td>\n",
       "      <td>0</td>\n",
       "    </tr>\n",
       "    <tr>\n",
       "      <th>2</th>\n",
       "      <td>48001950402</td>\n",
       "      <td>Texas</td>\n",
       "      <td>Anderson County</td>\n",
       "      <td>0</td>\n",
       "      <td>7535</td>\n",
       "      <td>83</td>\n",
       "      <td>1</td>\n",
       "      <td>7315</td>\n",
       "      <td>97.08</td>\n",
       "      <td>1</td>\n",
       "      <td>...</td>\n",
       "      <td>134</td>\n",
       "      <td>2591</td>\n",
       "      <td>3248</td>\n",
       "      <td>13</td>\n",
       "      <td>0</td>\n",
       "      <td>10</td>\n",
       "      <td>1673</td>\n",
       "      <td>1737</td>\n",
       "      <td>0</td>\n",
       "      <td>12</td>\n",
       "    </tr>\n",
       "    <tr>\n",
       "      <th>3</th>\n",
       "      <td>48001950500</td>\n",
       "      <td>Texas</td>\n",
       "      <td>Anderson County</td>\n",
       "      <td>1</td>\n",
       "      <td>4377</td>\n",
       "      <td>1604</td>\n",
       "      <td>0</td>\n",
       "      <td>86</td>\n",
       "      <td>1.96</td>\n",
       "      <td>1</td>\n",
       "      <td>...</td>\n",
       "      <td>627</td>\n",
       "      <td>2737</td>\n",
       "      <td>800</td>\n",
       "      <td>19</td>\n",
       "      <td>2</td>\n",
       "      <td>20</td>\n",
       "      <td>799</td>\n",
       "      <td>1389</td>\n",
       "      <td>130</td>\n",
       "      <td>310</td>\n",
       "    </tr>\n",
       "    <tr>\n",
       "      <th>4</th>\n",
       "      <td>48001950600</td>\n",
       "      <td>Texas</td>\n",
       "      <td>Anderson County</td>\n",
       "      <td>1</td>\n",
       "      <td>6405</td>\n",
       "      <td>2253</td>\n",
       "      <td>0</td>\n",
       "      <td>96</td>\n",
       "      <td>1.50</td>\n",
       "      <td>1</td>\n",
       "      <td>...</td>\n",
       "      <td>791</td>\n",
       "      <td>3831</td>\n",
       "      <td>1674</td>\n",
       "      <td>68</td>\n",
       "      <td>4</td>\n",
       "      <td>43</td>\n",
       "      <td>785</td>\n",
       "      <td>1253</td>\n",
       "      <td>230</td>\n",
       "      <td>289</td>\n",
       "    </tr>\n",
       "  </tbody>\n",
       "</table>\n",
       "<p>5 rows × 147 columns</p>\n",
       "</div>"
      ],
      "text/plain": [
       "   CensusTract  State           County  Urban  Pop2010  OHU2010  \\\n",
       "0  48001950100  Texas  Anderson County      0     4685     1874   \n",
       "1  48001950401  Texas  Anderson County      0     5422       77   \n",
       "2  48001950402  Texas  Anderson County      0     7535       83   \n",
       "3  48001950500  Texas  Anderson County      1     4377     1604   \n",
       "4  48001950600  Texas  Anderson County      1     6405     2253   \n",
       "\n",
       "   GroupQuartersFlag  NUMGQTRS  PCTGQTRS  LILATracts_1And10  ...  \\\n",
       "0                  0        49      1.05                  0  ...   \n",
       "1                  1      5219     96.26                  0  ...   \n",
       "2                  1      7315     97.08                  1  ...   \n",
       "3                  0        86      1.96                  1  ...   \n",
       "4                  0        96      1.50                  1  ...   \n",
       "\n",
       "   TractSeniors  TractWhite  TractBlack  TractAsian  TractNHOPI  TractAIAN  \\\n",
       "0           912        4012         452          22           0         13   \n",
       "1            24        1825        2266          21           0          5   \n",
       "2           134        2591        3248          13           0         10   \n",
       "3           627        2737         800          19           2         20   \n",
       "4           791        3831        1674          68           4         43   \n",
       "\n",
       "   TractOMultir  TractHispanic  TractHUNV  TractSNAP  \n",
       "0           186            236         46        165  \n",
       "1          1305           1324          0          0  \n",
       "2          1673           1737          0         12  \n",
       "3           799           1389        130        310  \n",
       "4           785           1253        230        289  \n",
       "\n",
       "[5 rows x 147 columns]"
      ]
     },
     "execution_count": 5,
     "metadata": {},
     "output_type": "execute_result"
    }
   ],
   "source": [
    "import pandas as pd\n",
    "\n",
    "df = pd.read_csv(\"Texas_Food_Acessibility - Sheet1.csv\")\n",
    "df.head()"
   ]
  },
  {
   "cell_type": "code",
   "execution_count": 6,
   "id": "e48ef762-de02-4bd2-88ee-ec862046f265",
   "metadata": {},
   "outputs": [
    {
     "name": "stdout",
     "output_type": "stream",
     "text": [
      "# A tibble: 4 × 147\n",
      "  CensusTract State County      Urban Pop2010 OHU2010 GroupQuartersFlag NUMGQTRS\n",
      "        <dbl> <chr> <chr>       <dbl>   <dbl>   <dbl>             <dbl>    <dbl>\n",
      "1 48001950100 Texas Anderson C…     0    4685    1874                 0       49\n",
      "2 48001950401 Texas Anderson C…     0    5422      77                 1     5219\n",
      "3 48001950402 Texas Anderson C…     0    7535      83                 1     7315\n",
      "4 48001950500 Texas Anderson C…     1    4377    1604                 0       86\n",
      "# ℹ 139 more variables: PCTGQTRS <dbl>, LILATracts_1And10 <dbl>,\n",
      "#   LILATracts_halfAnd10 <dbl>, LILATracts_1And20 <dbl>,\n",
      "#   LILATracts_Vehicle <dbl>, HUNVFlag <dbl>, LowIncomeTracts <dbl>,\n",
      "#   PovertyRate <dbl>, MedianFamilyIncome <chr>, LA1and10 <dbl>,\n",
      "#   LAhalfand10 <dbl>, LA1and20 <dbl>, LATracts_half <dbl>, LATracts1 <dbl>,\n",
      "#   LATracts10 <dbl>, LATracts20 <dbl>, LATractsVehicle_20 <dbl>,\n",
      "#   LAPOP1_10 <chr>, LAPOP05_10 <chr>, LAPOP1_20 <chr>, LALOWI1_10 <chr>, …\n",
      "# ℹ Use `colnames()` to see all variable names\n"
     ]
    }
   ],
   "source": [
    "%%R\n",
    "\n",
    "df <- read_csv('Texas_Food_Acessibility - Sheet1.csv', show_col_types = FALSE)\n",
    "df %>% head(4)"
   ]
  },
  {
   "cell_type": "code",
   "execution_count": 7,
   "id": "5b581cb1-a50a-4b30-bad4-f2abf5ef8238",
   "metadata": {},
   "outputs": [
    {
     "name": "stdout",
     "output_type": "stream",
     "text": [
      "# A tibble: 2 × 2\n",
      "  Urban Total_Offenses\n",
      "  <dbl>          <int>\n",
      "1     0           1142\n",
      "2     1           4096\n"
     ]
    }
   ],
   "source": [
    "%%R \n",
    "\n",
    "df_summary <- df %>%\n",
    "    group_by(Urban) %>%\n",
    "    summarise(Total_Offenses = n())\n",
    "df_summary"
   ]
  },
  {
   "cell_type": "code",
   "execution_count": 8,
   "id": "dafb9065-39b3-432d-86ba-336b70affe7c",
   "metadata": {},
   "outputs": [
    {
     "name": "stdout",
     "output_type": "stream",
     "text": [
      "\n",
      "Call:\n",
      "lm(formula = TractLOWI ~ PovertyRate, data = df)\n",
      "\n",
      "Residuals:\n",
      "    Min      1Q  Median      3Q     Max \n",
      "-6287.2  -705.1  -224.3   487.4 10020.3 \n",
      "\n",
      "Coefficients:\n",
      "            Estimate Std. Error t value Pr(>|t|)    \n",
      "(Intercept)  946.715     26.456   35.78   <2e-16 ***\n",
      "PovertyRate   53.435      1.278   41.82   <2e-16 ***\n",
      "---\n",
      "Signif. codes:  0 ‘***’ 0.001 ‘**’ 0.01 ‘*’ 0.05 ‘.’ 0.1 ‘ ’ 1\n",
      "\n",
      "Residual standard error: 1128 on 5236 degrees of freedom\n",
      "Multiple R-squared:  0.2504,\tAdjusted R-squared:  0.2503 \n",
      "F-statistic:  1749 on 1 and 5236 DF,  p-value: < 2.2e-16\n",
      "\n"
     ]
    }
   ],
   "source": [
    "%%R\n",
    "model <- lm(TractLOWI ~  PovertyRate, data = df)\n",
    "summary(model)"
   ]
  },
  {
   "cell_type": "code",
   "execution_count": 24,
   "id": "51376d31-c245-4bbc-9b3b-f0b1f664ff22",
   "metadata": {},
   "outputs": [
    {
     "name": "stdout",
     "output_type": "stream",
     "text": [
      "\n",
      "Call:\n",
      "lm(formula = TractLOWI ~ TractHUNV, data = df)\n",
      "\n",
      "Residuals:\n",
      "    Min      1Q  Median      3Q     Max \n",
      "-3122.7  -758.6  -238.2   499.7  9554.9 \n",
      "\n",
      "Coefficients:\n",
      "             Estimate Std. Error t value Pr(>|t|)    \n",
      "(Intercept) 1240.8307    22.4248   55.33   <2e-16 ***\n",
      "TractHUNV      6.1287     0.1612   38.02   <2e-16 ***\n",
      "---\n",
      "Signif. codes:  0 ‘***’ 0.001 ‘**’ 0.01 ‘*’ 0.05 ‘.’ 0.1 ‘ ’ 1\n",
      "\n",
      "Residual standard error: 1153 on 5236 degrees of freedom\n",
      "Multiple R-squared:  0.2164,\tAdjusted R-squared:  0.2162 \n",
      "F-statistic:  1446 on 1 and 5236 DF,  p-value: < 2.2e-16\n",
      "\n"
     ]
    }
   ],
   "source": [
    "%%R\n",
    "model <- lm(TractLOWI ~  TractHUNV, data = df)\n",
    "summary(model)"
   ]
  },
  {
   "cell_type": "code",
   "execution_count": 9,
   "id": "3b3e965d-94bb-4800-9a9e-5f6d489d6e65",
   "metadata": {},
   "outputs": [
    {
     "name": "stdout",
     "output_type": "stream",
     "text": [
      "\n",
      "Call:\n",
      "lm(formula = PovertyRate ~ TractHUNV, data = df)\n",
      "\n",
      "Residuals:\n",
      "    Min      1Q  Median      3Q     Max \n",
      "-33.211  -7.620  -2.251   5.523  88.817 \n",
      "\n",
      "Coefficients:\n",
      "             Estimate Std. Error t value Pr(>|t|)    \n",
      "(Intercept) 11.182721   0.210711   53.07   <2e-16 ***\n",
      "TractHUNV    0.056689   0.001514   37.43   <2e-16 ***\n",
      "---\n",
      "Signif. codes:  0 ‘***’ 0.001 ‘**’ 0.01 ‘*’ 0.05 ‘.’ 0.1 ‘ ’ 1\n",
      "\n",
      "Residual standard error: 10.84 on 5236 degrees of freedom\n",
      "Multiple R-squared:  0.2111,\tAdjusted R-squared:  0.211 \n",
      "F-statistic:  1401 on 1 and 5236 DF,  p-value: < 2.2e-16\n",
      "\n"
     ]
    }
   ],
   "source": [
    "%%R\n",
    "\n",
    "model <- lm(PovertyRate ~ TractHUNV, data = df)\n",
    "summary(model)"
   ]
  },
  {
   "cell_type": "code",
   "execution_count": 23,
   "id": "c8a2ede8-c265-492e-834a-c9b26d1eb8d8",
   "metadata": {},
   "outputs": [
    {
     "name": "stdout",
     "output_type": "stream",
     "text": [
      "`geom_smooth()` using formula = 'y ~ x'\n"
     ]
    },
    {
     "data": {
      "text/plain": [
       "Error in print(..., self = self) : unused argument (useS4 = FALSE)\n"
      ]
     },
     "metadata": {},
     "output_type": "display_data"
    },
    {
     "data": {
      "image/png": "[encoded data removed]",
      "text/plain": [
       "<IPython.core.display.Image object>"
      ]
     },
     "metadata": {},
     "output_type": "display_data"
    }
   ],
   "source": [
    "%%R \n",
    "\n",
    "ggplot(df) + \n",
    "\taes(x = TractLOWI, y = TractHUNV) + \n",
    "\tgeom_point() + \n",
    "    labs(title = \"Low-income population in Relation to The Accessibility for a Car\", subtitle = \"This shows the relation between each, which several outliers.\", x = \"Low Income Population\",y = \"Accessibility to a Car\") + \n",
    "\tgeom_smooth(method='lm')"
   ]
  },
  {
   "cell_type": "code",
   "execution_count": 11,
   "id": "c335c8b1-5002-4e85-a44b-051398a02469",
   "metadata": {},
   "outputs": [
    {
     "name": "stdout",
     "output_type": "stream",
     "text": [
      "\n",
      "Call:\n",
      "lm(formula = TractLOWI ~ PovertyRate + TractHUNV + TractSNAP, \n",
      "    data = df)\n",
      "\n",
      "Residuals:\n",
      "    Min      1Q  Median      3Q     Max \n",
      "-3136.9  -404.5  -116.3   284.2  5698.6 \n",
      "\n",
      "Coefficients:\n",
      "             Estimate Std. Error t value Pr(>|t|)    \n",
      "(Intercept) 556.15211   16.86783  32.971  < 2e-16 ***\n",
      "PovertyRate   4.60026    0.96368   4.774 1.86e-06 ***\n",
      "TractHUNV    -0.66128    0.12072  -5.478 4.51e-08 ***\n",
      "TractSNAP     5.70759    0.06599  86.497  < 2e-16 ***\n",
      "---\n",
      "Signif. codes:  0 ‘***’ 0.001 ‘**’ 0.01 ‘*’ 0.05 ‘.’ 0.1 ‘ ’ 1\n",
      "\n",
      "Residual standard error: 689.1 on 5234 degrees of freedom\n",
      "Multiple R-squared:  0.7203,\tAdjusted R-squared:  0.7202 \n",
      "F-statistic:  4494 on 3 and 5234 DF,  p-value: < 2.2e-16\n",
      "\n"
     ]
    }
   ],
   "source": [
    "%%R\n",
    "model <- lm(TractLOWI ~ PovertyRate + TractHUNV + TractSNAP, data = df)\n",
    "summary(model)"
   ]
  }
 ],
 "metadata": {
  "kernelspec": {
   "display_name": "Python 3 (ipykernel)",
   "language": "python",
   "name": "python3"
  },
  "language_info": {
   "codemirror_mode": {
    "name": "ipython",
    "version": 3
   },
   "file_extension": ".py",
   "mimetype": "text/x-python",
   "name": "python",
   "nbconvert_exporter": "python",
   "pygments_lexer": "ipython3",
   "version": "3.12.7"
  }
 },
 "nbformat": 4,
 "nbformat_minor": 5
}
